{
 "cells": [
  {
   "cell_type": "code",
   "execution_count": 1,
   "id": "1d2531ef",
   "metadata": {
    "_cell_guid": "b1076dfc-b9ad-4769-8c92-a6c4dae69d19",
    "_uuid": "8f2839f25d086af736a60e9eeb907d3b93b6e0e5",
    "execution": {
     "iopub.execute_input": "2023-11-20T20:58:22.731092Z",
     "iopub.status.busy": "2023-11-20T20:58:22.730219Z",
     "iopub.status.idle": "2023-11-20T20:58:23.148724Z",
     "shell.execute_reply": "2023-11-20T20:58:23.147656Z"
    },
    "papermill": {
     "duration": 0.429491,
     "end_time": "2023-11-20T20:58:23.151317",
     "exception": false,
     "start_time": "2023-11-20T20:58:22.721826",
     "status": "completed"
    },
    "tags": []
   },
   "outputs": [
    {
     "name": "stdout",
     "output_type": "stream",
     "text": [
      "/kaggle/input/stroke-prediction-dataset/healthcare-dataset-stroke-data.csv\n"
     ]
    }
   ],
   "source": [
    "# This Python 3 environment comes with many helpful analytics libraries installed\n",
    "# It is defined by the kaggle/python Docker image: https://github.com/kaggle/docker-python\n",
    "# For example, here's several helpful packages to load\n",
    "\n",
    "import numpy as np # linear algebra\n",
    "import pandas as pd # data processing, CSV file I/O (e.g. pd.read_csv)\n",
    "\n",
    "# Input data files are available in the read-only \"../input/\" directory\n",
    "# For example, running this (by clicking run or pressing Shift+Enter) will list all files under the input directory\n",
    "\n",
    "import os\n",
    "for dirname, _, filenames in os.walk('/kaggle/input'):\n",
    "    for filename in filenames:\n",
    "        print(os.path.join(dirname, filename))\n",
    "\n",
    "# You can write up to 20GB to the current directory (/kaggle/working/) that gets preserved as output when you create a version using \"Save & Run All\" \n",
    "# You can also write temporary files to /kaggle/temp/, but they won't be saved outside of the current session"
   ]
  },
  {
   "cell_type": "markdown",
   "id": "67620b77",
   "metadata": {
    "papermill": {
     "duration": 0.00546,
     "end_time": "2023-11-20T20:58:23.164861",
     "exception": false,
     "start_time": "2023-11-20T20:58:23.159401",
     "status": "completed"
    },
    "tags": []
   },
   "source": [
    "# Preprocess The Data"
   ]
  },
  {
   "cell_type": "code",
   "execution_count": 2,
   "id": "23565b6e",
   "metadata": {
    "execution": {
     "iopub.execute_input": "2023-11-20T20:58:23.178761Z",
     "iopub.status.busy": "2023-11-20T20:58:23.177947Z",
     "iopub.status.idle": "2023-11-20T20:58:23.211091Z",
     "shell.execute_reply": "2023-11-20T20:58:23.210256Z"
    },
    "papermill": {
     "duration": 0.042797,
     "end_time": "2023-11-20T20:58:23.213405",
     "exception": false,
     "start_time": "2023-11-20T20:58:23.170608",
     "status": "completed"
    },
    "tags": []
   },
   "outputs": [],
   "source": [
    "# Read in the data\n",
    "df = pd.read_csv('/kaggle/input/stroke-prediction-dataset/healthcare-dataset-stroke-data.csv')"
   ]
  },
  {
   "cell_type": "code",
   "execution_count": 3,
   "id": "ed816ebb",
   "metadata": {
    "execution": {
     "iopub.execute_input": "2023-11-20T20:58:23.226900Z",
     "iopub.status.busy": "2023-11-20T20:58:23.226490Z",
     "iopub.status.idle": "2023-11-20T20:58:23.258093Z",
     "shell.execute_reply": "2023-11-20T20:58:23.257288Z"
    },
    "papermill": {
     "duration": 0.041016,
     "end_time": "2023-11-20T20:58:23.260448",
     "exception": false,
     "start_time": "2023-11-20T20:58:23.219432",
     "status": "completed"
    },
    "tags": []
   },
   "outputs": [
    {
     "data": {
      "text/html": [
       "<div>\n",
       "<style scoped>\n",
       "    .dataframe tbody tr th:only-of-type {\n",
       "        vertical-align: middle;\n",
       "    }\n",
       "\n",
       "    .dataframe tbody tr th {\n",
       "        vertical-align: top;\n",
       "    }\n",
       "\n",
       "    .dataframe thead th {\n",
       "        text-align: right;\n",
       "    }\n",
       "</style>\n",
       "<table border=\"1\" class=\"dataframe\">\n",
       "  <thead>\n",
       "    <tr style=\"text-align: right;\">\n",
       "      <th></th>\n",
       "      <th>id</th>\n",
       "      <th>gender</th>\n",
       "      <th>age</th>\n",
       "      <th>hypertension</th>\n",
       "      <th>heart_disease</th>\n",
       "      <th>ever_married</th>\n",
       "      <th>work_type</th>\n",
       "      <th>Residence_type</th>\n",
       "      <th>avg_glucose_level</th>\n",
       "      <th>bmi</th>\n",
       "      <th>smoking_status</th>\n",
       "      <th>stroke</th>\n",
       "    </tr>\n",
       "  </thead>\n",
       "  <tbody>\n",
       "    <tr>\n",
       "      <th>0</th>\n",
       "      <td>9046</td>\n",
       "      <td>Male</td>\n",
       "      <td>67.0</td>\n",
       "      <td>0</td>\n",
       "      <td>1</td>\n",
       "      <td>Yes</td>\n",
       "      <td>Private</td>\n",
       "      <td>Urban</td>\n",
       "      <td>228.69</td>\n",
       "      <td>36.6</td>\n",
       "      <td>formerly smoked</td>\n",
       "      <td>1</td>\n",
       "    </tr>\n",
       "    <tr>\n",
       "      <th>1</th>\n",
       "      <td>51676</td>\n",
       "      <td>Female</td>\n",
       "      <td>61.0</td>\n",
       "      <td>0</td>\n",
       "      <td>0</td>\n",
       "      <td>Yes</td>\n",
       "      <td>Self-employed</td>\n",
       "      <td>Rural</td>\n",
       "      <td>202.21</td>\n",
       "      <td>NaN</td>\n",
       "      <td>never smoked</td>\n",
       "      <td>1</td>\n",
       "    </tr>\n",
       "    <tr>\n",
       "      <th>2</th>\n",
       "      <td>31112</td>\n",
       "      <td>Male</td>\n",
       "      <td>80.0</td>\n",
       "      <td>0</td>\n",
       "      <td>1</td>\n",
       "      <td>Yes</td>\n",
       "      <td>Private</td>\n",
       "      <td>Rural</td>\n",
       "      <td>105.92</td>\n",
       "      <td>32.5</td>\n",
       "      <td>never smoked</td>\n",
       "      <td>1</td>\n",
       "    </tr>\n",
       "    <tr>\n",
       "      <th>3</th>\n",
       "      <td>60182</td>\n",
       "      <td>Female</td>\n",
       "      <td>49.0</td>\n",
       "      <td>0</td>\n",
       "      <td>0</td>\n",
       "      <td>Yes</td>\n",
       "      <td>Private</td>\n",
       "      <td>Urban</td>\n",
       "      <td>171.23</td>\n",
       "      <td>34.4</td>\n",
       "      <td>smokes</td>\n",
       "      <td>1</td>\n",
       "    </tr>\n",
       "    <tr>\n",
       "      <th>4</th>\n",
       "      <td>1665</td>\n",
       "      <td>Female</td>\n",
       "      <td>79.0</td>\n",
       "      <td>1</td>\n",
       "      <td>0</td>\n",
       "      <td>Yes</td>\n",
       "      <td>Self-employed</td>\n",
       "      <td>Rural</td>\n",
       "      <td>174.12</td>\n",
       "      <td>24.0</td>\n",
       "      <td>never smoked</td>\n",
       "      <td>1</td>\n",
       "    </tr>\n",
       "  </tbody>\n",
       "</table>\n",
       "</div>"
      ],
      "text/plain": [
       "      id  gender   age  hypertension  heart_disease ever_married  \\\n",
       "0   9046    Male  67.0             0              1          Yes   \n",
       "1  51676  Female  61.0             0              0          Yes   \n",
       "2  31112    Male  80.0             0              1          Yes   \n",
       "3  60182  Female  49.0             0              0          Yes   \n",
       "4   1665  Female  79.0             1              0          Yes   \n",
       "\n",
       "       work_type Residence_type  avg_glucose_level   bmi   smoking_status  \\\n",
       "0        Private          Urban             228.69  36.6  formerly smoked   \n",
       "1  Self-employed          Rural             202.21   NaN     never smoked   \n",
       "2        Private          Rural             105.92  32.5     never smoked   \n",
       "3        Private          Urban             171.23  34.4           smokes   \n",
       "4  Self-employed          Rural             174.12  24.0     never smoked   \n",
       "\n",
       "   stroke  \n",
       "0       1  \n",
       "1       1  \n",
       "2       1  \n",
       "3       1  \n",
       "4       1  "
      ]
     },
     "execution_count": 3,
     "metadata": {},
     "output_type": "execute_result"
    }
   ],
   "source": [
    "# View the data\n",
    "df.head()"
   ]
  },
  {
   "cell_type": "code",
   "execution_count": 4,
   "id": "aabf3c6f",
   "metadata": {
    "execution": {
     "iopub.execute_input": "2023-11-20T20:58:23.275076Z",
     "iopub.status.busy": "2023-11-20T20:58:23.274373Z",
     "iopub.status.idle": "2023-11-20T20:58:23.281033Z",
     "shell.execute_reply": "2023-11-20T20:58:23.279813Z"
    },
    "papermill": {
     "duration": 0.016667,
     "end_time": "2023-11-20T20:58:23.283331",
     "exception": false,
     "start_time": "2023-11-20T20:58:23.266664",
     "status": "completed"
    },
    "tags": []
   },
   "outputs": [
    {
     "data": {
      "text/plain": [
       "(5110, 12)"
      ]
     },
     "execution_count": 4,
     "metadata": {},
     "output_type": "execute_result"
    }
   ],
   "source": [
    "# Old shape of the data\n",
    "df.shape"
   ]
  },
  {
   "cell_type": "code",
   "execution_count": 5,
   "id": "3ff983aa",
   "metadata": {
    "execution": {
     "iopub.execute_input": "2023-11-20T20:58:23.297797Z",
     "iopub.status.busy": "2023-11-20T20:58:23.297027Z",
     "iopub.status.idle": "2023-11-20T20:58:23.308502Z",
     "shell.execute_reply": "2023-11-20T20:58:23.307629Z"
    },
    "papermill": {
     "duration": 0.021069,
     "end_time": "2023-11-20T20:58:23.310694",
     "exception": false,
     "start_time": "2023-11-20T20:58:23.289625",
     "status": "completed"
    },
    "tags": []
   },
   "outputs": [],
   "source": [
    "# Drop unnecessary columns\n",
    "preproccessed_df = df.drop(labels=['id', 'ever_married', 'work_type', 'Residence_type'], axis=1)"
   ]
  },
  {
   "cell_type": "code",
   "execution_count": 6,
   "id": "98def704",
   "metadata": {
    "execution": {
     "iopub.execute_input": "2023-11-20T20:58:23.325427Z",
     "iopub.status.busy": "2023-11-20T20:58:23.324809Z",
     "iopub.status.idle": "2023-11-20T20:58:23.332846Z",
     "shell.execute_reply": "2023-11-20T20:58:23.332095Z"
    },
    "papermill": {
     "duration": 0.017816,
     "end_time": "2023-11-20T20:58:23.334870",
     "exception": false,
     "start_time": "2023-11-20T20:58:23.317054",
     "status": "completed"
    },
    "tags": []
   },
   "outputs": [],
   "source": [
    "# Drop rows with missing values\n",
    "preproccessed_df = preproccessed_df.dropna(axis=0)"
   ]
  },
  {
   "cell_type": "code",
   "execution_count": 7,
   "id": "8f67bbb9",
   "metadata": {
    "execution": {
     "iopub.execute_input": "2023-11-20T20:58:23.349497Z",
     "iopub.status.busy": "2023-11-20T20:58:23.348867Z",
     "iopub.status.idle": "2023-11-20T20:58:23.362667Z",
     "shell.execute_reply": "2023-11-20T20:58:23.361519Z"
    },
    "papermill": {
     "duration": 0.023959,
     "end_time": "2023-11-20T20:58:23.365185",
     "exception": false,
     "start_time": "2023-11-20T20:58:23.341226",
     "status": "completed"
    },
    "tags": []
   },
   "outputs": [],
   "source": [
    "# Convert categorical features to numerical features using one hot encoding\n",
    "preprocessed_df = pd.get_dummies(preproccessed_df, columns=['gender', 'smoking_status'], dtype=int)"
   ]
  },
  {
   "cell_type": "code",
   "execution_count": 8,
   "id": "b1e3fcf5",
   "metadata": {
    "execution": {
     "iopub.execute_input": "2023-11-20T20:58:23.379579Z",
     "iopub.status.busy": "2023-11-20T20:58:23.379164Z",
     "iopub.status.idle": "2023-11-20T20:58:23.396158Z",
     "shell.execute_reply": "2023-11-20T20:58:23.395068Z"
    },
    "papermill": {
     "duration": 0.026527,
     "end_time": "2023-11-20T20:58:23.398226",
     "exception": false,
     "start_time": "2023-11-20T20:58:23.371699",
     "status": "completed"
    },
    "tags": []
   },
   "outputs": [
    {
     "data": {
      "text/html": [
       "<div>\n",
       "<style scoped>\n",
       "    .dataframe tbody tr th:only-of-type {\n",
       "        vertical-align: middle;\n",
       "    }\n",
       "\n",
       "    .dataframe tbody tr th {\n",
       "        vertical-align: top;\n",
       "    }\n",
       "\n",
       "    .dataframe thead th {\n",
       "        text-align: right;\n",
       "    }\n",
       "</style>\n",
       "<table border=\"1\" class=\"dataframe\">\n",
       "  <thead>\n",
       "    <tr style=\"text-align: right;\">\n",
       "      <th></th>\n",
       "      <th>age</th>\n",
       "      <th>hypertension</th>\n",
       "      <th>heart_disease</th>\n",
       "      <th>avg_glucose_level</th>\n",
       "      <th>bmi</th>\n",
       "      <th>stroke</th>\n",
       "      <th>gender_Female</th>\n",
       "      <th>gender_Male</th>\n",
       "      <th>gender_Other</th>\n",
       "      <th>smoking_status_Unknown</th>\n",
       "      <th>smoking_status_formerly smoked</th>\n",
       "      <th>smoking_status_never smoked</th>\n",
       "      <th>smoking_status_smokes</th>\n",
       "    </tr>\n",
       "  </thead>\n",
       "  <tbody>\n",
       "    <tr>\n",
       "      <th>0</th>\n",
       "      <td>67.0</td>\n",
       "      <td>0</td>\n",
       "      <td>1</td>\n",
       "      <td>228.69</td>\n",
       "      <td>36.6</td>\n",
       "      <td>1</td>\n",
       "      <td>0</td>\n",
       "      <td>1</td>\n",
       "      <td>0</td>\n",
       "      <td>0</td>\n",
       "      <td>1</td>\n",
       "      <td>0</td>\n",
       "      <td>0</td>\n",
       "    </tr>\n",
       "    <tr>\n",
       "      <th>2</th>\n",
       "      <td>80.0</td>\n",
       "      <td>0</td>\n",
       "      <td>1</td>\n",
       "      <td>105.92</td>\n",
       "      <td>32.5</td>\n",
       "      <td>1</td>\n",
       "      <td>0</td>\n",
       "      <td>1</td>\n",
       "      <td>0</td>\n",
       "      <td>0</td>\n",
       "      <td>0</td>\n",
       "      <td>1</td>\n",
       "      <td>0</td>\n",
       "    </tr>\n",
       "    <tr>\n",
       "      <th>3</th>\n",
       "      <td>49.0</td>\n",
       "      <td>0</td>\n",
       "      <td>0</td>\n",
       "      <td>171.23</td>\n",
       "      <td>34.4</td>\n",
       "      <td>1</td>\n",
       "      <td>1</td>\n",
       "      <td>0</td>\n",
       "      <td>0</td>\n",
       "      <td>0</td>\n",
       "      <td>0</td>\n",
       "      <td>0</td>\n",
       "      <td>1</td>\n",
       "    </tr>\n",
       "    <tr>\n",
       "      <th>4</th>\n",
       "      <td>79.0</td>\n",
       "      <td>1</td>\n",
       "      <td>0</td>\n",
       "      <td>174.12</td>\n",
       "      <td>24.0</td>\n",
       "      <td>1</td>\n",
       "      <td>1</td>\n",
       "      <td>0</td>\n",
       "      <td>0</td>\n",
       "      <td>0</td>\n",
       "      <td>0</td>\n",
       "      <td>1</td>\n",
       "      <td>0</td>\n",
       "    </tr>\n",
       "    <tr>\n",
       "      <th>5</th>\n",
       "      <td>81.0</td>\n",
       "      <td>0</td>\n",
       "      <td>0</td>\n",
       "      <td>186.21</td>\n",
       "      <td>29.0</td>\n",
       "      <td>1</td>\n",
       "      <td>0</td>\n",
       "      <td>1</td>\n",
       "      <td>0</td>\n",
       "      <td>0</td>\n",
       "      <td>1</td>\n",
       "      <td>0</td>\n",
       "      <td>0</td>\n",
       "    </tr>\n",
       "  </tbody>\n",
       "</table>\n",
       "</div>"
      ],
      "text/plain": [
       "    age  hypertension  heart_disease  avg_glucose_level   bmi  stroke  \\\n",
       "0  67.0             0              1             228.69  36.6       1   \n",
       "2  80.0             0              1             105.92  32.5       1   \n",
       "3  49.0             0              0             171.23  34.4       1   \n",
       "4  79.0             1              0             174.12  24.0       1   \n",
       "5  81.0             0              0             186.21  29.0       1   \n",
       "\n",
       "   gender_Female  gender_Male  gender_Other  smoking_status_Unknown  \\\n",
       "0              0            1             0                       0   \n",
       "2              0            1             0                       0   \n",
       "3              1            0             0                       0   \n",
       "4              1            0             0                       0   \n",
       "5              0            1             0                       0   \n",
       "\n",
       "   smoking_status_formerly smoked  smoking_status_never smoked  \\\n",
       "0                               1                            0   \n",
       "2                               0                            1   \n",
       "3                               0                            0   \n",
       "4                               0                            1   \n",
       "5                               1                            0   \n",
       "\n",
       "   smoking_status_smokes  \n",
       "0                      0  \n",
       "2                      0  \n",
       "3                      1  \n",
       "4                      0  \n",
       "5                      0  "
      ]
     },
     "execution_count": 8,
     "metadata": {},
     "output_type": "execute_result"
    }
   ],
   "source": [
    "preprocessed_df.head()"
   ]
  },
  {
   "cell_type": "code",
   "execution_count": 9,
   "id": "a976c44f",
   "metadata": {
    "execution": {
     "iopub.execute_input": "2023-11-20T20:58:23.413477Z",
     "iopub.status.busy": "2023-11-20T20:58:23.412564Z",
     "iopub.status.idle": "2023-11-20T20:58:23.419346Z",
     "shell.execute_reply": "2023-11-20T20:58:23.418323Z"
    },
    "papermill": {
     "duration": 0.01674,
     "end_time": "2023-11-20T20:58:23.421614",
     "exception": false,
     "start_time": "2023-11-20T20:58:23.404874",
     "status": "completed"
    },
    "tags": []
   },
   "outputs": [
    {
     "data": {
      "text/plain": [
       "(4909, 13)"
      ]
     },
     "execution_count": 9,
     "metadata": {},
     "output_type": "execute_result"
    }
   ],
   "source": [
    "# New shape of the data\n",
    "preprocessed_df.shape"
   ]
  },
  {
   "cell_type": "markdown",
   "id": "21d90587",
   "metadata": {
    "papermill": {
     "duration": 0.006607,
     "end_time": "2023-11-20T20:58:23.434979",
     "exception": false,
     "start_time": "2023-11-20T20:58:23.428372",
     "status": "completed"
    },
    "tags": []
   },
   "source": [
    "# Analyze The Data"
   ]
  },
  {
   "cell_type": "code",
   "execution_count": 10,
   "id": "198550fd",
   "metadata": {
    "execution": {
     "iopub.execute_input": "2023-11-20T20:58:23.451282Z",
     "iopub.status.busy": "2023-11-20T20:58:23.450070Z",
     "iopub.status.idle": "2023-11-20T20:58:23.454880Z",
     "shell.execute_reply": "2023-11-20T20:58:23.454016Z"
    },
    "papermill": {
     "duration": 0.015472,
     "end_time": "2023-11-20T20:58:23.457129",
     "exception": false,
     "start_time": "2023-11-20T20:58:23.441657",
     "status": "completed"
    },
    "tags": []
   },
   "outputs": [],
   "source": [
    "# Import necesary libraries\n",
    "from matplotlib import pyplot"
   ]
  },
  {
   "cell_type": "code",
   "execution_count": 11,
   "id": "14dc6718",
   "metadata": {
    "execution": {
     "iopub.execute_input": "2023-11-20T20:58:23.472335Z",
     "iopub.status.busy": "2023-11-20T20:58:23.471972Z",
     "iopub.status.idle": "2023-11-20T20:58:24.307820Z",
     "shell.execute_reply": "2023-11-20T20:58:24.306939Z"
    },
    "papermill": {
     "duration": 0.846005,
     "end_time": "2023-11-20T20:58:24.309871",
     "exception": false,
     "start_time": "2023-11-20T20:58:23.463866",
     "status": "completed"
    },
    "tags": []
   },
   "outputs": [
    {
     "data": {
      "image/png": "[encoded data removed]",
      "text/plain": [
       "<Figure size 1500x1000 with 2 Axes>"
      ]
     },
     "metadata": {},
     "output_type": "display_data"
    }
   ],
   "source": [
    "# Correlation matrix to see which features are related to each other\n",
    "feats = preprocessed_df.columns\n",
    "correlations = preprocessed_df.corr()\n",
    "\n",
    "fig = pyplot.figure(figsize=(15, 10))\n",
    "ax = fig.add_subplot()\n",
    "cax = ax.matshow(correlations, vmin=-1, vmax=1)\n",
    "fig.colorbar(cax)\n",
    "ticks = np.arange(0,13,1)\n",
    "ax.set_xticks(ticks)\n",
    "ax.set_yticks(ticks)\n",
    "ax.set_xticklabels(feats)\n",
    "ax.set_yticklabels(feats)\n",
    "\n",
    "# Rotate x-axis labels for better readability\n",
    "ax.set_xticklabels(feats, rotation=90, ha='right')\n",
    "ax.set_yticklabels(feats)\n",
    "\n",
    "pyplot.show()"
   ]
  },
  {
   "cell_type": "markdown",
   "id": "2e85f44c",
   "metadata": {
    "papermill": {
     "duration": 0.007529,
     "end_time": "2023-11-20T20:58:24.325296",
     "exception": false,
     "start_time": "2023-11-20T20:58:24.317767",
     "status": "completed"
    },
    "tags": []
   },
   "source": [
    "Based off the data from the correlation matrix, we can assume that age, hypertension, heart_disease, avg_glucose_level, and smoking_status_formerly smoked had higher correlation"
   ]
  },
  {
   "cell_type": "markdown",
   "id": "fde3ba19",
   "metadata": {
    "papermill": {
     "duration": 0.007515,
     "end_time": "2023-11-20T20:58:24.340767",
     "exception": false,
     "start_time": "2023-11-20T20:58:24.333252",
     "status": "completed"
    },
    "tags": []
   },
   "source": [
    "# Model The Data"
   ]
  },
  {
   "cell_type": "markdown",
   "id": "98185602",
   "metadata": {
    "papermill": {
     "duration": 0.007837,
     "end_time": "2023-11-20T20:58:24.356278",
     "exception": false,
     "start_time": "2023-11-20T20:58:24.348441",
     "status": "completed"
    },
    "tags": []
   },
   "source": [
    "# Evaluate The Model"
   ]
  },
  {
   "cell_type": "markdown",
   "id": "181d992e",
   "metadata": {
    "papermill": {
     "duration": 0.007556,
     "end_time": "2023-11-20T20:58:24.371667",
     "exception": false,
     "start_time": "2023-11-20T20:58:24.364111",
     "status": "completed"
    },
    "tags": []
   },
   "source": [
    "# Train The Model"
   ]
  },
  {
   "cell_type": "markdown",
   "id": "eb46eef8",
   "metadata": {
    "papermill": {
     "duration": 0.007753,
     "end_time": "2023-11-20T20:58:24.387389",
     "exception": false,
     "start_time": "2023-11-20T20:58:24.379636",
     "status": "completed"
    },
    "tags": []
   },
   "source": [
    "# Deploy The Model"
   ]
  }
 ],
 "metadata": {
  "kaggle": {
   "accelerator": "none",
   "dataSources": [
    {
     "datasetId": 1120859,
     "sourceId": 1882037,
     "sourceType": "datasetVersion"
    }
   ],
   "dockerImageVersionId": 30587,
   "isGpuEnabled": false,
   "isInternetEnabled": true,
   "language": "python",
   "sourceType": "notebook"
  },
  "kernelspec": {
   "display_name": "Python 3",
   "language": "python",
   "name": "python3"
  },
  "language_info": {
   "codemirror_mode": {
    "name": "ipython",
    "version": 3
   },
   "file_extension": ".py",
   "mimetype": "text/x-python",
   "name": "python",
   "nbconvert_exporter": "python",
   "pygments_lexer": "ipython3",
   "version": "3.10.12"
  },
  "papermill": {
   "default_parameters": {},
   "duration": 5.435009,
   "end_time": "2023-11-20T20:58:24.814742",
   "environment_variables": {},
   "exception": null,
   "input_path": "__notebook__.ipynb",
   "output_path": "__notebook__.ipynb",
   "parameters": {},
   "start_time": "2023-11-20T20:58:19.379733",
   "version": "2.4.0"
  }
 },
 "nbformat": 4,
 "nbformat_minor": 5
}
