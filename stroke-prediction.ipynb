{
 "cells": [
  {
   "cell_type": "code",
   "execution_count": 1,
   "id": "3b9bad9a",
   "metadata": {
    "_cell_guid": "b1076dfc-b9ad-4769-8c92-a6c4dae69d19",
    "_uuid": "8f2839f25d086af736a60e9eeb907d3b93b6e0e5",
    "execution": {
     "iopub.execute_input": "2023-11-20T20:12:33.702011Z",
     "iopub.status.busy": "2023-11-20T20:12:33.701493Z",
     "iopub.status.idle": "2023-11-20T20:12:34.144211Z",
     "shell.execute_reply": "2023-11-20T20:12:34.143058Z"
    },
    "papermill": {
     "duration": 0.454479,
     "end_time": "2023-11-20T20:12:34.146622",
     "exception": false,
     "start_time": "2023-11-20T20:12:33.692143",
     "status": "completed"
    },
    "tags": []
   },
   "outputs": [
    {
     "name": "stdout",
     "output_type": "stream",
     "text": [
      "/kaggle/input/stroke-prediction-dataset/healthcare-dataset-stroke-data.csv\n"
     ]
    }
   ],
   "source": [
    "# This Python 3 environment comes with many helpful analytics libraries installed\n",
    "# It is defined by the kaggle/python Docker image: https://github.com/kaggle/docker-python\n",
    "# For example, here's several helpful packages to load\n",
    "\n",
    "import numpy as np # linear algebra\n",
    "import pandas as pd # data processing, CSV file I/O (e.g. pd.read_csv)\n",
    "\n",
    "# Input data files are available in the read-only \"../input/\" directory\n",
    "# For example, running this (by clicking run or pressing Shift+Enter) will list all files under the input directory\n",
    "\n",
    "import os\n",
    "for dirname, _, filenames in os.walk('/kaggle/input'):\n",
    "    for filename in filenames:\n",
    "        print(os.path.join(dirname, filename))\n",
    "\n",
    "# You can write up to 20GB to the current directory (/kaggle/working/) that gets preserved as output when you create a version using \"Save & Run All\" \n",
    "# You can also write temporary files to /kaggle/temp/, but they won't be saved outside of the current session"
   ]
  },
  {
   "cell_type": "markdown",
   "id": "fa2ce5a2",
   "metadata": {
    "papermill": {
     "duration": 0.004947,
     "end_time": "2023-11-20T20:12:34.158996",
     "exception": false,
     "start_time": "2023-11-20T20:12:34.154049",
     "status": "completed"
    },
    "tags": []
   },
   "source": [
    "# Preprocess The Data"
   ]
  },
  {
   "cell_type": "code",
   "execution_count": 2,
   "id": "fe5c698b",
   "metadata": {
    "execution": {
     "iopub.execute_input": "2023-11-20T20:12:34.171779Z",
     "iopub.status.busy": "2023-11-20T20:12:34.170926Z",
     "iopub.status.idle": "2023-11-20T20:12:34.208314Z",
     "shell.execute_reply": "2023-11-20T20:12:34.207304Z"
    },
    "papermill": {
     "duration": 0.047068,
     "end_time": "2023-11-20T20:12:34.211206",
     "exception": false,
     "start_time": "2023-11-20T20:12:34.164138",
     "status": "completed"
    },
    "tags": []
   },
   "outputs": [],
   "source": [
    "# Read in the data\n",
    "df = pd.read_csv('/kaggle/input/stroke-prediction-dataset/healthcare-dataset-stroke-data.csv')"
   ]
  },
  {
   "cell_type": "code",
   "execution_count": 3,
   "id": "c556e57b",
   "metadata": {
    "execution": {
     "iopub.execute_input": "2023-11-20T20:12:34.223952Z",
     "iopub.status.busy": "2023-11-20T20:12:34.223527Z",
     "iopub.status.idle": "2023-11-20T20:12:34.256300Z",
     "shell.execute_reply": "2023-11-20T20:12:34.254971Z"
    },
    "papermill": {
     "duration": 0.042307,
     "end_time": "2023-11-20T20:12:34.258951",
     "exception": false,
     "start_time": "2023-11-20T20:12:34.216644",
     "status": "completed"
    },
    "tags": []
   },
   "outputs": [
    {
     "data": {
      "text/html": [
       "<div>\n",
       "<style scoped>\n",
       "    .dataframe tbody tr th:only-of-type {\n",
       "        vertical-align: middle;\n",
       "    }\n",
       "\n",
       "    .dataframe tbody tr th {\n",
       "        vertical-align: top;\n",
       "    }\n",
       "\n",
       "    .dataframe thead th {\n",
       "        text-align: right;\n",
       "    }\n",
       "</style>\n",
       "<table border=\"1\" class=\"dataframe\">\n",
       "  <thead>\n",
       "    <tr style=\"text-align: right;\">\n",
       "      <th></th>\n",
       "      <th>id</th>\n",
       "      <th>gender</th>\n",
       "      <th>age</th>\n",
       "      <th>hypertension</th>\n",
       "      <th>heart_disease</th>\n",
       "      <th>ever_married</th>\n",
       "      <th>work_type</th>\n",
       "      <th>Residence_type</th>\n",
       "      <th>avg_glucose_level</th>\n",
       "      <th>bmi</th>\n",
       "      <th>smoking_status</th>\n",
       "      <th>stroke</th>\n",
       "    </tr>\n",
       "  </thead>\n",
       "  <tbody>\n",
       "    <tr>\n",
       "      <th>0</th>\n",
       "      <td>9046</td>\n",
       "      <td>Male</td>\n",
       "      <td>67.0</td>\n",
       "      <td>0</td>\n",
       "      <td>1</td>\n",
       "      <td>Yes</td>\n",
       "      <td>Private</td>\n",
       "      <td>Urban</td>\n",
       "      <td>228.69</td>\n",
       "      <td>36.6</td>\n",
       "      <td>formerly smoked</td>\n",
       "      <td>1</td>\n",
       "    </tr>\n",
       "    <tr>\n",
       "      <th>1</th>\n",
       "      <td>51676</td>\n",
       "      <td>Female</td>\n",
       "      <td>61.0</td>\n",
       "      <td>0</td>\n",
       "      <td>0</td>\n",
       "      <td>Yes</td>\n",
       "      <td>Self-employed</td>\n",
       "      <td>Rural</td>\n",
       "      <td>202.21</td>\n",
       "      <td>NaN</td>\n",
       "      <td>never smoked</td>\n",
       "      <td>1</td>\n",
       "    </tr>\n",
       "    <tr>\n",
       "      <th>2</th>\n",
       "      <td>31112</td>\n",
       "      <td>Male</td>\n",
       "      <td>80.0</td>\n",
       "      <td>0</td>\n",
       "      <td>1</td>\n",
       "      <td>Yes</td>\n",
       "      <td>Private</td>\n",
       "      <td>Rural</td>\n",
       "      <td>105.92</td>\n",
       "      <td>32.5</td>\n",
       "      <td>never smoked</td>\n",
       "      <td>1</td>\n",
       "    </tr>\n",
       "    <tr>\n",
       "      <th>3</th>\n",
       "      <td>60182</td>\n",
       "      <td>Female</td>\n",
       "      <td>49.0</td>\n",
       "      <td>0</td>\n",
       "      <td>0</td>\n",
       "      <td>Yes</td>\n",
       "      <td>Private</td>\n",
       "      <td>Urban</td>\n",
       "      <td>171.23</td>\n",
       "      <td>34.4</td>\n",
       "      <td>smokes</td>\n",
       "      <td>1</td>\n",
       "    </tr>\n",
       "    <tr>\n",
       "      <th>4</th>\n",
       "      <td>1665</td>\n",
       "      <td>Female</td>\n",
       "      <td>79.0</td>\n",
       "      <td>1</td>\n",
       "      <td>0</td>\n",
       "      <td>Yes</td>\n",
       "      <td>Self-employed</td>\n",
       "      <td>Rural</td>\n",
       "      <td>174.12</td>\n",
       "      <td>24.0</td>\n",
       "      <td>never smoked</td>\n",
       "      <td>1</td>\n",
       "    </tr>\n",
       "  </tbody>\n",
       "</table>\n",
       "</div>"
      ],
      "text/plain": [
       "      id  gender   age  hypertension  heart_disease ever_married  \\\n",
       "0   9046    Male  67.0             0              1          Yes   \n",
       "1  51676  Female  61.0             0              0          Yes   \n",
       "2  31112    Male  80.0             0              1          Yes   \n",
       "3  60182  Female  49.0             0              0          Yes   \n",
       "4   1665  Female  79.0             1              0          Yes   \n",
       "\n",
       "       work_type Residence_type  avg_glucose_level   bmi   smoking_status  \\\n",
       "0        Private          Urban             228.69  36.6  formerly smoked   \n",
       "1  Self-employed          Rural             202.21   NaN     never smoked   \n",
       "2        Private          Rural             105.92  32.5     never smoked   \n",
       "3        Private          Urban             171.23  34.4           smokes   \n",
       "4  Self-employed          Rural             174.12  24.0     never smoked   \n",
       "\n",
       "   stroke  \n",
       "0       1  \n",
       "1       1  \n",
       "2       1  \n",
       "3       1  \n",
       "4       1  "
      ]
     },
     "execution_count": 3,
     "metadata": {},
     "output_type": "execute_result"
    }
   ],
   "source": [
    "# View the data\n",
    "df.head()"
   ]
  },
  {
   "cell_type": "code",
   "execution_count": 4,
   "id": "bf4cf7dd",
   "metadata": {
    "execution": {
     "iopub.execute_input": "2023-11-20T20:12:34.272866Z",
     "iopub.status.busy": "2023-11-20T20:12:34.272168Z",
     "iopub.status.idle": "2023-11-20T20:12:34.279160Z",
     "shell.execute_reply": "2023-11-20T20:12:34.277689Z"
    },
    "papermill": {
     "duration": 0.016722,
     "end_time": "2023-11-20T20:12:34.281521",
     "exception": false,
     "start_time": "2023-11-20T20:12:34.264799",
     "status": "completed"
    },
    "tags": []
   },
   "outputs": [
    {
     "data": {
      "text/plain": [
       "(5110, 12)"
      ]
     },
     "execution_count": 4,
     "metadata": {},
     "output_type": "execute_result"
    }
   ],
   "source": [
    "# Old shape of the data\n",
    "df.shape"
   ]
  },
  {
   "cell_type": "code",
   "execution_count": 5,
   "id": "33b5abd2",
   "metadata": {
    "execution": {
     "iopub.execute_input": "2023-11-20T20:12:34.296005Z",
     "iopub.status.busy": "2023-11-20T20:12:34.295310Z",
     "iopub.status.idle": "2023-11-20T20:12:34.309084Z",
     "shell.execute_reply": "2023-11-20T20:12:34.307820Z"
    },
    "papermill": {
     "duration": 0.024013,
     "end_time": "2023-11-20T20:12:34.311842",
     "exception": false,
     "start_time": "2023-11-20T20:12:34.287829",
     "status": "completed"
    },
    "tags": []
   },
   "outputs": [],
   "source": [
    "# Drop unnecessary columns\n",
    "preproccessed_df = df.drop(labels=['id', 'ever_married', 'work_type', 'Residence_type'], axis=1)"
   ]
  },
  {
   "cell_type": "code",
   "execution_count": 6,
   "id": "32355111",
   "metadata": {
    "execution": {
     "iopub.execute_input": "2023-11-20T20:12:34.325395Z",
     "iopub.status.busy": "2023-11-20T20:12:34.324975Z",
     "iopub.status.idle": "2023-11-20T20:12:34.333538Z",
     "shell.execute_reply": "2023-11-20T20:12:34.332688Z"
    },
    "papermill": {
     "duration": 0.018339,
     "end_time": "2023-11-20T20:12:34.336073",
     "exception": false,
     "start_time": "2023-11-20T20:12:34.317734",
     "status": "completed"
    },
    "tags": []
   },
   "outputs": [],
   "source": [
    "# Drop rows with missing values\n",
    "preproccessed_df = preproccessed_df.dropna(axis=0)"
   ]
  },
  {
   "cell_type": "code",
   "execution_count": 7,
   "id": "3232c425",
   "metadata": {
    "execution": {
     "iopub.execute_input": "2023-11-20T20:12:34.349667Z",
     "iopub.status.busy": "2023-11-20T20:12:34.349280Z",
     "iopub.status.idle": "2023-11-20T20:12:34.365170Z",
     "shell.execute_reply": "2023-11-20T20:12:34.364223Z"
    },
    "papermill": {
     "duration": 0.025525,
     "end_time": "2023-11-20T20:12:34.367506",
     "exception": false,
     "start_time": "2023-11-20T20:12:34.341981",
     "status": "completed"
    },
    "tags": []
   },
   "outputs": [],
   "source": [
    "# Convert categorical features to numerical features using one hot encoding\n",
    "preprocessed_df = pd.get_dummies(preproccessed_df, columns=['gender', 'smoking_status'], dtype=int)"
   ]
  },
  {
   "cell_type": "code",
   "execution_count": 8,
   "id": "15fa6109",
   "metadata": {
    "execution": {
     "iopub.execute_input": "2023-11-20T20:12:34.381312Z",
     "iopub.status.busy": "2023-11-20T20:12:34.380606Z",
     "iopub.status.idle": "2023-11-20T20:12:34.398136Z",
     "shell.execute_reply": "2023-11-20T20:12:34.396556Z"
    },
    "papermill": {
     "duration": 0.027137,
     "end_time": "2023-11-20T20:12:34.400478",
     "exception": false,
     "start_time": "2023-11-20T20:12:34.373341",
     "status": "completed"
    },
    "tags": []
   },
   "outputs": [
    {
     "data": {
      "text/html": [
       "<div>\n",
       "<style scoped>\n",
       "    .dataframe tbody tr th:only-of-type {\n",
       "        vertical-align: middle;\n",
       "    }\n",
       "\n",
       "    .dataframe tbody tr th {\n",
       "        vertical-align: top;\n",
       "    }\n",
       "\n",
       "    .dataframe thead th {\n",
       "        text-align: right;\n",
       "    }\n",
       "</style>\n",
       "<table border=\"1\" class=\"dataframe\">\n",
       "  <thead>\n",
       "    <tr style=\"text-align: right;\">\n",
       "      <th></th>\n",
       "      <th>age</th>\n",
       "      <th>hypertension</th>\n",
       "      <th>heart_disease</th>\n",
       "      <th>avg_glucose_level</th>\n",
       "      <th>bmi</th>\n",
       "      <th>stroke</th>\n",
       "      <th>gender_Female</th>\n",
       "      <th>gender_Male</th>\n",
       "      <th>gender_Other</th>\n",
       "      <th>smoking_status_Unknown</th>\n",
       "      <th>smoking_status_formerly smoked</th>\n",
       "      <th>smoking_status_never smoked</th>\n",
       "      <th>smoking_status_smokes</th>\n",
       "    </tr>\n",
       "  </thead>\n",
       "  <tbody>\n",
       "    <tr>\n",
       "      <th>0</th>\n",
       "      <td>67.0</td>\n",
       "      <td>0</td>\n",
       "      <td>1</td>\n",
       "      <td>228.69</td>\n",
       "      <td>36.6</td>\n",
       "      <td>1</td>\n",
       "      <td>0</td>\n",
       "      <td>1</td>\n",
       "      <td>0</td>\n",
       "      <td>0</td>\n",
       "      <td>1</td>\n",
       "      <td>0</td>\n",
       "      <td>0</td>\n",
       "    </tr>\n",
       "    <tr>\n",
       "      <th>2</th>\n",
       "      <td>80.0</td>\n",
       "      <td>0</td>\n",
       "      <td>1</td>\n",
       "      <td>105.92</td>\n",
       "      <td>32.5</td>\n",
       "      <td>1</td>\n",
       "      <td>0</td>\n",
       "      <td>1</td>\n",
       "      <td>0</td>\n",
       "      <td>0</td>\n",
       "      <td>0</td>\n",
       "      <td>1</td>\n",
       "      <td>0</td>\n",
       "    </tr>\n",
       "    <tr>\n",
       "      <th>3</th>\n",
       "      <td>49.0</td>\n",
       "      <td>0</td>\n",
       "      <td>0</td>\n",
       "      <td>171.23</td>\n",
       "      <td>34.4</td>\n",
       "      <td>1</td>\n",
       "      <td>1</td>\n",
       "      <td>0</td>\n",
       "      <td>0</td>\n",
       "      <td>0</td>\n",
       "      <td>0</td>\n",
       "      <td>0</td>\n",
       "      <td>1</td>\n",
       "    </tr>\n",
       "    <tr>\n",
       "      <th>4</th>\n",
       "      <td>79.0</td>\n",
       "      <td>1</td>\n",
       "      <td>0</td>\n",
       "      <td>174.12</td>\n",
       "      <td>24.0</td>\n",
       "      <td>1</td>\n",
       "      <td>1</td>\n",
       "      <td>0</td>\n",
       "      <td>0</td>\n",
       "      <td>0</td>\n",
       "      <td>0</td>\n",
       "      <td>1</td>\n",
       "      <td>0</td>\n",
       "    </tr>\n",
       "    <tr>\n",
       "      <th>5</th>\n",
       "      <td>81.0</td>\n",
       "      <td>0</td>\n",
       "      <td>0</td>\n",
       "      <td>186.21</td>\n",
       "      <td>29.0</td>\n",
       "      <td>1</td>\n",
       "      <td>0</td>\n",
       "      <td>1</td>\n",
       "      <td>0</td>\n",
       "      <td>0</td>\n",
       "      <td>1</td>\n",
       "      <td>0</td>\n",
       "      <td>0</td>\n",
       "    </tr>\n",
       "  </tbody>\n",
       "</table>\n",
       "</div>"
      ],
      "text/plain": [
       "    age  hypertension  heart_disease  avg_glucose_level   bmi  stroke  \\\n",
       "0  67.0             0              1             228.69  36.6       1   \n",
       "2  80.0             0              1             105.92  32.5       1   \n",
       "3  49.0             0              0             171.23  34.4       1   \n",
       "4  79.0             1              0             174.12  24.0       1   \n",
       "5  81.0             0              0             186.21  29.0       1   \n",
       "\n",
       "   gender_Female  gender_Male  gender_Other  smoking_status_Unknown  \\\n",
       "0              0            1             0                       0   \n",
       "2              0            1             0                       0   \n",
       "3              1            0             0                       0   \n",
       "4              1            0             0                       0   \n",
       "5              0            1             0                       0   \n",
       "\n",
       "   smoking_status_formerly smoked  smoking_status_never smoked  \\\n",
       "0                               1                            0   \n",
       "2                               0                            1   \n",
       "3                               0                            0   \n",
       "4                               0                            1   \n",
       "5                               1                            0   \n",
       "\n",
       "   smoking_status_smokes  \n",
       "0                      0  \n",
       "2                      0  \n",
       "3                      1  \n",
       "4                      0  \n",
       "5                      0  "
      ]
     },
     "execution_count": 8,
     "metadata": {},
     "output_type": "execute_result"
    }
   ],
   "source": [
    "preprocessed_df.head()"
   ]
  },
  {
   "cell_type": "code",
   "execution_count": 9,
   "id": "ba73f237",
   "metadata": {
    "execution": {
     "iopub.execute_input": "2023-11-20T20:12:34.415654Z",
     "iopub.status.busy": "2023-11-20T20:12:34.414415Z",
     "iopub.status.idle": "2023-11-20T20:12:34.421035Z",
     "shell.execute_reply": "2023-11-20T20:12:34.420047Z"
    },
    "papermill": {
     "duration": 0.016918,
     "end_time": "2023-11-20T20:12:34.423570",
     "exception": false,
     "start_time": "2023-11-20T20:12:34.406652",
     "status": "completed"
    },
    "tags": []
   },
   "outputs": [
    {
     "data": {
      "text/plain": [
       "(4909, 13)"
      ]
     },
     "execution_count": 9,
     "metadata": {},
     "output_type": "execute_result"
    }
   ],
   "source": [
    "# New shape of the data\n",
    "preprocessed_df.shape"
   ]
  },
  {
   "cell_type": "markdown",
   "id": "5be26c86",
   "metadata": {
    "papermill": {
     "duration": 0.005996,
     "end_time": "2023-11-20T20:12:34.436034",
     "exception": false,
     "start_time": "2023-11-20T20:12:34.430038",
     "status": "completed"
    },
    "tags": []
   },
   "source": [
    "# Analyze The data"
   ]
  },
  {
   "cell_type": "markdown",
   "id": "f1672614",
   "metadata": {
    "papermill": {
     "duration": 0.005961,
     "end_time": "2023-11-20T20:12:34.448194",
     "exception": false,
     "start_time": "2023-11-20T20:12:34.442233",
     "status": "completed"
    },
    "tags": []
   },
   "source": [
    "# Model The Data"
   ]
  },
  {
   "cell_type": "markdown",
   "id": "0bea74ca",
   "metadata": {
    "papermill": {
     "duration": 0.005928,
     "end_time": "2023-11-20T20:12:34.460352",
     "exception": false,
     "start_time": "2023-11-20T20:12:34.454424",
     "status": "completed"
    },
    "tags": []
   },
   "source": [
    "# Evaluate The Model"
   ]
  },
  {
   "cell_type": "markdown",
   "id": "5424b567",
   "metadata": {
    "papermill": {
     "duration": 0.006016,
     "end_time": "2023-11-20T20:12:34.472555",
     "exception": false,
     "start_time": "2023-11-20T20:12:34.466539",
     "status": "completed"
    },
    "tags": []
   },
   "source": [
    "# Train The Model"
   ]
  },
  {
   "cell_type": "markdown",
   "id": "02c4c50b",
   "metadata": {
    "papermill": {
     "duration": 0.006055,
     "end_time": "2023-11-20T20:12:34.484986",
     "exception": false,
     "start_time": "2023-11-20T20:12:34.478931",
     "status": "completed"
    },
    "tags": []
   },
   "source": [
    "# Deploy The Model"
   ]
  }
 ],
 "metadata": {
  "kaggle": {
   "accelerator": "none",
   "dataSources": [
    {
     "datasetId": 1120859,
     "sourceId": 1882037,
     "sourceType": "datasetVersion"
    }
   ],
   "dockerImageVersionId": 30587,
   "isGpuEnabled": false,
   "isInternetEnabled": true,
   "language": "python",
   "sourceType": "notebook"
  },
  "kernelspec": {
   "display_name": "Python 3",
   "language": "python",
   "name": "python3"
  },
  "language_info": {
   "codemirror_mode": {
    "name": "ipython",
    "version": 3
   },
   "file_extension": ".py",
   "mimetype": "text/x-python",
   "name": "python",
   "nbconvert_exporter": "python",
   "pygments_lexer": "ipython3",
   "version": "3.10.12"
  },
  "papermill": {
   "default_parameters": {},
   "duration": 4.849465,
   "end_time": "2023-11-20T20:12:35.012982",
   "environment_variables": {},
   "exception": null,
   "input_path": "__notebook__.ipynb",
   "output_path": "__notebook__.ipynb",
   "parameters": {},
   "start_time": "2023-11-20T20:12:30.163517",
   "version": "2.4.0"
  }
 },
 "nbformat": 4,
 "nbformat_minor": 5
}
